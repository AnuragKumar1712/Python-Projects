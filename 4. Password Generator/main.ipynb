{
 "cells": [
  {
   "cell_type": "code",
   "execution_count": 9,
   "metadata": {},
   "outputs": [
    {
     "name": "stdout",
     "output_type": "stream",
     "text": [
      "Welcome to the Password Generator\n",
      "You can customize your password by selecting the character types to include\n",
      "Generated Password:  8DZD1Y\n"
     ]
    }
   ],
   "source": [
    "import random\n",
    "import string\n",
    "\n",
    "def generate_password(length=12, uppercase=True, lowercase=True, digits=True, special_chars=True):\n",
    "    characters = ''\n",
    "    if uppercase:\n",
    "        characters += string.ascii_uppercase\n",
    "    if lowercase:\n",
    "        characters += string.ascii_lowercase\n",
    "    if digits:\n",
    "        characters += string.digits\n",
    "    if special_chars:\n",
    "        characters += string.punctuation\n",
    "    \n",
    "    if not characters:\n",
    "        print('Error! At least one character type must be selected')\n",
    "        return None\n",
    "    \n",
    "    password = ''.join(random.choice(characters) for _ in range(length))\n",
    "    return password\n",
    "\n",
    "print('Welcome to the Password Generator')\n",
    "print('You can customize your password by selecting the character types to include')\n",
    "\n",
    "password_length = int(input('Enter the length of the password: '))\n",
    "\n",
    "include_uppercase = input('Include uppercase letters? (y/n): ').lower() == 'y'\n",
    "include_lowercase = input('Include lowercase letters? (y/n): ').lower() == 'y'\n",
    "include_digits = input('Include digits? (y/n): ').lower() == 'y'\n",
    "include_special_chars = input('Include special characters? (y/n): ').lower() == 'y'\n",
    "\n",
    "generated_password = generate_password(\n",
    "    length=password_length,\n",
    "    uppercase=include_uppercase,\n",
    "    lowercase=include_lowercase,\n",
    "    digits=include_digits,\n",
    "    special_chars=include_special_chars\n",
    ")\n",
    "\n",
    "if generated_password:\n",
    "    print('Generated Password: ', generated_password)\n",
    "else:\n",
    "    print('No Password generated. Please try again!')"
   ]
  }
 ],
 "metadata": {
  "kernelspec": {
   "display_name": "base",
   "language": "python",
   "name": "python3"
  },
  "language_info": {
   "codemirror_mode": {
    "name": "ipython",
    "version": 3
   },
   "file_extension": ".py",
   "mimetype": "text/x-python",
   "name": "python",
   "nbconvert_exporter": "python",
   "pygments_lexer": "ipython3",
   "version": "3.12.4"
  }
 },
 "nbformat": 4,
 "nbformat_minor": 2
}
